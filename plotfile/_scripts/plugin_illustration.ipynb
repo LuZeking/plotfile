{
 "cells": [
  {
   "cell_type": "code",
   "execution_count": 1,
   "metadata": {},
   "outputs": [
    {
     "data": {
      "text/plain": [
       "'\\nIllustration for Better Comments Usage\\n\\n'"
      ]
     },
     "execution_count": 1,
     "metadata": {},
     "output_type": "execute_result"
    }
   ],
   "source": [
    "\"\"\"\n",
    "1. Illustration for Plugin.1 Better Comments Usage\n",
    "\n",
    "\"\"\"\n",
    "# * tets\n",
    "# ! attention\n",
    "# ? Question\n",
    "# TODO \n",
    "#//@param my  \n",
    "# @param myParam"
   ]
  },
  {
   "cell_type": "code",
   "execution_count": null,
   "metadata": {},
   "outputs": [],
   "source": [
    "\"\"\" \n",
    "2. SORT IMPORTS\n",
    "    Launch the Command Palette (Ctrl/Cmd + Shift + P);  \n",
    "    Enter Sort imports\n",
    "\n",
    "3. The Visual Studio IntelliCode extension provides AI-assisted development features for Python\n",
    "\n",
    "4. autoDocstring: VSCode Python Docstring Generator; annotation quickly generation\n",
    "\n",
    "5\n",
    "\n",
    "\"\"\""
   ]
  }
 ],
 "metadata": {
  "interpreter": {
   "hash": "16c11565bb4e67660010f3b8ac54bb06ff920d6e5d1ce8d761516dd991d6b185"
  },
  "kernelspec": {
   "display_name": "Python 3.6.13 ('py36')",
   "language": "python",
   "name": "python3"
  },
  "language_info": {
   "codemirror_mode": {
    "name": "ipython",
    "version": 3
   },
   "file_extension": ".py",
   "mimetype": "text/x-python",
   "name": "python",
   "nbconvert_exporter": "python",
   "pygments_lexer": "ipython3",
   "version": "3.6.13"
  },
  "orig_nbformat": 4
 },
 "nbformat": 4,
 "nbformat_minor": 2
}
