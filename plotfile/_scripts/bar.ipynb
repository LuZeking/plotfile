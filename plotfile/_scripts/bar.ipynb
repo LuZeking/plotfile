{
 "cells": [
  {
   "cell_type": "code",
   "execution_count": null,
   "metadata": {},
   "outputs": [],
   "source": [
    "\"\"\"The final plot solution is \n",
    "    1. seaborn\n",
    "        refer tutorial(10 min master seaborn) : https://zhuanlan.zhihu.com/p/49035741\n",
    "    2. plt.style.context(['science',\"ieee\",'no-latex'])\n",
    "    3. matplotlib adjust the details\n",
    "    4.inkscape manually adjust\n",
    "\n",
    "    ? just wrap the seaborn with style?\n",
    "    \"\"\"\n",
    "#TODO 1. line, bar,multi warp on top of seaborn with scientific style & matplotlib details 2 import from color libaray"
   ]
  },
  {
   "cell_type": "code",
   "execution_count": 2,
   "metadata": {},
   "outputs": [],
   "source": [
    "import numpy as np\n",
    "import pandas as pd\n",
    "import seaborn as sns\n",
    "import matplotlib.pyplot as plt\n",
    "\n",
    "%matplotlib inline\n",
    "\n",
    "import sys\n",
    "sys.path.append(\"..\") \n",
    "from plot.colors import Colors\n",
    "colors = Colors.colors()\n",
    "\n",
    "# Seting color list or dict\n",
    "color = Colors.light_colors()\n",
    "# color = [colors['light green'][3], colors['light blue'][3], colors['grey'][3]]\n",
    "#color = ['lightgreen','lightblue','lightgrey','black','red','green','orange','blue','limegreen','darkgreen','royalblue','navy']\n",
    "# camp = plt.get_cmap(\"rainbow\")\n",
    "\n",
    "# Specify the mean and standard deviation for each mock data group\n",
    "data_specs = [(2, 2), (7, 1), (4, 2.5), (10, 0.5), (5.5, 0.1)]\n",
    "\n",
    "# Generate data and place into a pandas DataFrame\n",
    "data = [np.random.normal(mu, sigma, 10) for mu, sigma in data_specs]\n",
    "data = pd.DataFrame(data).T\n",
    "data.columns = ['Group_%s' % n for n in range(1,6)]\n",
    "\n",
    "# Get the means of each group\n",
    "means = data.mean()\n",
    "x = np.arange(len(means))\n",
    "\n",
    "# Define variables for limits\n",
    "xlims = (-1, 5)\n",
    "ylims = (-5, 15)\n",
    "\n",
    "error_kw = {'capsize': 2, 'capthick': 0.5, 'ecolor': 'black'}"
   ]
  },
  {
   "cell_type": "code",
   "execution_count": 3,
   "metadata": {},
   "outputs": [],
   "source": [
    "def barplot(save_path=None,title=None, *arg,**kwarg):\n",
    "    \"\"\"just wrap seaborn is almost enough\"\"\"\n",
    "    with plt.style.context(['science',\"nature\",'no-latex']):  # ,\"ieee\"\n",
    "        \n",
    "\n",
    "        fig, ax = plt.subplots()\n",
    "\n",
    "        sns.barplot(palette=color,*arg,**kwarg)\n",
    "        ax.tick_params(right=False,  top=False) \n",
    "        ax.tick_params(right=False, which='minor', top=False)\n",
    "        ax.legend(title=None)\n",
    "        ax.set(title = title)\n",
    "        \n",
    "        sns.despine()\n",
    "        if save_path:\n",
    "            plt.savefig(f'{save_path}.jpg',dpi=600)\n",
    "            plt.savefig(f'{save_path}.svg',dpi=600)\n",
    "    return ax\n",
    "\n",
    "def distplot(save_path = None, *arg,**kwarg):\n",
    "    \"\"\"just wrap seaborn is almost enough\"\"\"\n",
    "    with plt.style.context(['science','no-latex']):  # ,\"ieee\"\n",
    "\n",
    "        \n",
    "        fig, ax = plt.subplots()\n",
    "        sns.distplot(*arg,**kwarg)\n",
    "        \n",
    "        ax.tick_params(right=False,  top=False) \n",
    "        ax.tick_params(right=False, which='minor', top=False) \n",
    "        sns.despine()\n",
    "        \n",
    "        if save_path:\n",
    "           fig.savefig(f'{save_path}.jpg',dpi=600)\n",
    "           plt.savefig(f'{save_path}.svg',dpi=600)\n",
    "    \n",
    "\n",
    "def countplot(save_path=None, *arg,**kwarg):\n",
    "    \"\"\"just wrap seaborn is almost enough\"\"\"\n",
    "    with plt.style.context(['science',\"nature\",'no-latex']):  # ,\"ieee\"\n",
    "        \n",
    "\n",
    "        fig, ax = plt.subplots()\n",
    "\n",
    "        sns.countplot(palette=color,*arg,**kwarg)\n",
    "        ax.tick_params(right=False,  top=False) \n",
    "        ax.tick_params(right=False, which='minor', top=False)\n",
    "\n",
    "        sns.despine()\n",
    "        if save_path:\n",
    "            plt.savefig(f'{save_path}.jpg',dpi=600)\n",
    "            plt.savefig(f'{save_path}.svg',dpi=600)"
   ]
  },
  {
   "cell_type": "code",
   "execution_count": 5,
   "metadata": {},
   "outputs": [
    {
     "data": {
      "image/png": "[encoded data removed]",
      "text/plain": [
       "<Figure size 237.6x180 with 1 Axes>"
      ]
     },
     "metadata": {
      "needs_background": "light"
     },
     "output_type": "display_data"
    }
   ],
   "source": [
    "xlabels = ['NCN', 'CNN']\n",
    "listA = [1-0.552285,1-0.716834]\n",
    "listB = [0.2305,0.175554] # 0.22 # 0.\n",
    "errorA = [0,0]\n",
    "errorB = [0.01,0.01]\n",
    "error_kw = {'capsize': 2, 'capthick': 0.5, 'ecolor': 'black'}\n",
    "ylabel = 'Similarity'\n",
    "title = 'Similarity Comparison after Categories Permutation'\n",
    "labels = [\"Unpermuted\",\"Permuted\"]\n",
    "\n",
    "data = {\"Model\":xlabels*4,\"Correlation\":[1-0.552285,1-0.716834,0.2305,0.175554,0.2305-errorB[0],0.175554-errorB[0],0.2305+errorB[0],0.175554+errorB[0]],\n",
    "        \"Condition\":[\"Unpermuted\",\"Unpermuted\",\"Permuted\",\"Permuted\",\"Permuted\",\"Permuted\",\"Permuted\",\"Permuted\"],\n",
    "        }  #\"Error\":[None,None,0.01,0.01]\n",
    "df = pd.DataFrame(data=data)\n",
    "title = \"RDM Permutation Analysis\"\n",
    "ax = barplot(title = title, x=\"Model\",y=\"Correlation\",hue='Condition',data=df,edgecolor = \"black\",capsize=.02,errwidth=1)\n",
    "for i in range(2):\n",
    "        ax.axhline(0.35-0.01*i,xmin=1-(listA[i]-listB[i]), xmax=1,color=\"black\") #,color=color[i]\n",
    "# ax.set(title = \"RDM Permutation Analysis among Humans, NCN and CNN\")\n",
    "plt.savefig(f\"figures/test_title.jpg\",dpi=600)"
   ]
  },
  {
   "cell_type": "code",
   "execution_count": 6,
   "metadata": {},
   "outputs": [
    {
     "data": {
      "text/html": [
       "<div>\n",
       "<style scoped>\n",
       "    .dataframe tbody tr th:only-of-type {\n",
       "        vertical-align: middle;\n",
       "    }\n",
       "\n",
       "    .dataframe tbody tr th {\n",
       "        vertical-align: top;\n",
       "    }\n",
       "\n",
       "    .dataframe thead th {\n",
       "        text-align: right;\n",
       "    }\n",
       "</style>\n",
       "<table border=\"1\" class=\"dataframe\">\n",
       "  <thead>\n",
       "    <tr style=\"text-align: right;\">\n",
       "      <th></th>\n",
       "      <th>Model</th>\n",
       "      <th>Correlation</th>\n",
       "      <th>Condition</th>\n",
       "    </tr>\n",
       "  </thead>\n",
       "  <tbody>\n",
       "    <tr>\n",
       "      <th>0</th>\n",
       "      <td>NCN</td>\n",
       "      <td>0.447715</td>\n",
       "      <td>Unpermuted</td>\n",
       "    </tr>\n",
       "    <tr>\n",
       "      <th>1</th>\n",
       "      <td>CNN</td>\n",
       "      <td>0.283166</td>\n",
       "      <td>Unpermuted</td>\n",
       "    </tr>\n",
       "    <tr>\n",
       "      <th>2</th>\n",
       "      <td>NCN</td>\n",
       "      <td>0.230500</td>\n",
       "      <td>Permuted</td>\n",
       "    </tr>\n",
       "    <tr>\n",
       "      <th>3</th>\n",
       "      <td>CNN</td>\n",
       "      <td>0.175554</td>\n",
       "      <td>Permuted</td>\n",
       "    </tr>\n",
       "    <tr>\n",
       "      <th>4</th>\n",
       "      <td>NCN</td>\n",
       "      <td>0.220500</td>\n",
       "      <td>Permuted</td>\n",
       "    </tr>\n",
       "    <tr>\n",
       "      <th>5</th>\n",
       "      <td>CNN</td>\n",
       "      <td>0.165554</td>\n",
       "      <td>Permuted</td>\n",
       "    </tr>\n",
       "    <tr>\n",
       "      <th>6</th>\n",
       "      <td>NCN</td>\n",
       "      <td>0.240500</td>\n",
       "      <td>Permuted</td>\n",
       "    </tr>\n",
       "    <tr>\n",
       "      <th>7</th>\n",
       "      <td>CNN</td>\n",
       "      <td>0.185554</td>\n",
       "      <td>Permuted</td>\n",
       "    </tr>\n",
       "  </tbody>\n",
       "</table>\n",
       "</div>"
      ],
      "text/plain": [
       "  Model  Correlation   Condition\n",
       "0   NCN     0.447715  Unpermuted\n",
       "1   CNN     0.283166  Unpermuted\n",
       "2   NCN     0.230500    Permuted\n",
       "3   CNN     0.175554    Permuted\n",
       "4   NCN     0.220500    Permuted\n",
       "5   CNN     0.165554    Permuted\n",
       "6   NCN     0.240500    Permuted\n",
       "7   CNN     0.185554    Permuted"
      ]
     },
     "execution_count": 6,
     "metadata": {},
     "output_type": "execute_result"
    }
   ],
   "source": [
    "df"
   ]
  },
  {
   "cell_type": "code",
   "execution_count": 7,
   "metadata": {},
   "outputs": [
    {
     "data": {
      "text/html": [
       "<div>\n",
       "<style scoped>\n",
       "    .dataframe tbody tr th:only-of-type {\n",
       "        vertical-align: middle;\n",
       "    }\n",
       "\n",
       "    .dataframe tbody tr th {\n",
       "        vertical-align: top;\n",
       "    }\n",
       "\n",
       "    .dataframe thead th {\n",
       "        text-align: right;\n",
       "    }\n",
       "</style>\n",
       "<table border=\"1\" class=\"dataframe\">\n",
       "  <thead>\n",
       "    <tr style=\"text-align: right;\">\n",
       "      <th></th>\n",
       "      <th>Unnamed: 0</th>\n",
       "      <th>Model</th>\n",
       "      <th>Correlation</th>\n",
       "      <th>Condition</th>\n",
       "    </tr>\n",
       "  </thead>\n",
       "  <tbody>\n",
       "    <tr>\n",
       "      <th>0</th>\n",
       "      <td>0</td>\n",
       "      <td>NCN</td>\n",
       "      <td>0.447308</td>\n",
       "      <td>Bootstrapping</td>\n",
       "    </tr>\n",
       "    <tr>\n",
       "      <th>1</th>\n",
       "      <td>1</td>\n",
       "      <td>NCN</td>\n",
       "      <td>0.586204</td>\n",
       "      <td>Bootstrapping</td>\n",
       "    </tr>\n",
       "    <tr>\n",
       "      <th>2</th>\n",
       "      <td>2</td>\n",
       "      <td>NCN</td>\n",
       "      <td>0.456231</td>\n",
       "      <td>Bootstrapping</td>\n",
       "    </tr>\n",
       "    <tr>\n",
       "      <th>3</th>\n",
       "      <td>3</td>\n",
       "      <td>NCN</td>\n",
       "      <td>0.777406</td>\n",
       "      <td>Bootstrapping</td>\n",
       "    </tr>\n",
       "    <tr>\n",
       "      <th>4</th>\n",
       "      <td>4</td>\n",
       "      <td>NCN</td>\n",
       "      <td>0.390640</td>\n",
       "      <td>Bootstrapping</td>\n",
       "    </tr>\n",
       "    <tr>\n",
       "      <th>...</th>\n",
       "      <td>...</td>\n",
       "      <td>...</td>\n",
       "      <td>...</td>\n",
       "      <td>...</td>\n",
       "    </tr>\n",
       "    <tr>\n",
       "      <th>19995</th>\n",
       "      <td>19995</td>\n",
       "      <td>CNN</td>\n",
       "      <td>0.096056</td>\n",
       "      <td>Permuted</td>\n",
       "    </tr>\n",
       "    <tr>\n",
       "      <th>19996</th>\n",
       "      <td>19996</td>\n",
       "      <td>CNN</td>\n",
       "      <td>0.068562</td>\n",
       "      <td>Permuted</td>\n",
       "    </tr>\n",
       "    <tr>\n",
       "      <th>19997</th>\n",
       "      <td>19997</td>\n",
       "      <td>CNN</td>\n",
       "      <td>0.047173</td>\n",
       "      <td>Permuted</td>\n",
       "    </tr>\n",
       "    <tr>\n",
       "      <th>19998</th>\n",
       "      <td>19998</td>\n",
       "      <td>CNN</td>\n",
       "      <td>0.114363</td>\n",
       "      <td>Permuted</td>\n",
       "    </tr>\n",
       "    <tr>\n",
       "      <th>19999</th>\n",
       "      <td>19999</td>\n",
       "      <td>CNN</td>\n",
       "      <td>0.206984</td>\n",
       "      <td>Permuted</td>\n",
       "    </tr>\n",
       "  </tbody>\n",
       "</table>\n",
       "<p>20000 rows × 4 columns</p>\n",
       "</div>"
      ],
      "text/plain": [
       "       Unnamed: 0 Model  Correlation      Condition\n",
       "0               0   NCN     0.447308  Bootstrapping\n",
       "1               1   NCN     0.586204  Bootstrapping\n",
       "2               2   NCN     0.456231  Bootstrapping\n",
       "3               3   NCN     0.777406  Bootstrapping\n",
       "4               4   NCN     0.390640  Bootstrapping\n",
       "...           ...   ...          ...            ...\n",
       "19995       19995   CNN     0.096056       Permuted\n",
       "19996       19996   CNN     0.068562       Permuted\n",
       "19997       19997   CNN     0.047173       Permuted\n",
       "19998       19998   CNN     0.114363       Permuted\n",
       "19999       19999   CNN     0.206984       Permuted\n",
       "\n",
       "[20000 rows x 4 columns]"
      ]
     },
     "execution_count": 7,
     "metadata": {},
     "output_type": "execute_result"
    }
   ],
   "source": [
    "df_boostrap = pd.read_csv(\"data/shuffled_bootstrapping_vs_permutation.csv\") ##06_2022_results0_31bootstrapping_vs_permutation.csv\")\n",
    "# df_boostrap[\"Condition\"][:10000] = \"Bootstrapping\"\n",
    "df_boostrap"
   ]
  },
  {
   "cell_type": "code",
   "execution_count": 9,
   "metadata": {},
   "outputs": [
    {
     "data": {
      "image/png": "[encoded data removed]",
      "text/plain": [
       "<Figure size 237.6x180 with 1 Axes>"
      ]
     },
     "metadata": {
      "needs_background": "light"
     },
     "output_type": "display_data"
    }
   ],
   "source": [
    "title = \"RDM Permutation Analysis\"\n",
    "ax = barplot(title = title, x=\"Model\",y=\"Correlation\",hue='Condition',data=df_boostrap,edgecolor = \"black\",linewidth=.8, capsize=.02,errwidth=.5)\n",
    "# listA = [ 0.55, 0.39]\n",
    "# listB= [0.226, 0.174]\n",
    "gaps = [0.5495846582948681,\n",
    " 0.38873725393736747,\n",
    " 0.18833112942713803,\n",
    " 0.14993907936776774]\n",
    "for i in range(2):\n",
    "        ax.axhline(0.45-0.02*i,xmin=1-(gaps[i]-gaps[i+2]), xmax=1,color=\"black\") #,color=color[i] # 0.55, 0.39 # 0.2262, 0.174 -->0.32 0.22\n",
    "# ax.set(title = \"RDM Permutation Analysis among Humans, NCN and CNN\")\n",
    "plt.savefig(f\"figures/bootstrapping_vs_permutation.jpg\",dpi=600)"
   ]
  },
  {
   "cell_type": "code",
   "execution_count": 9,
   "metadata": {},
   "outputs": [
    {
     "data": {
      "text/html": [
       "<div>\n",
       "<style scoped>\n",
       "    .dataframe tbody tr th:only-of-type {\n",
       "        vertical-align: middle;\n",
       "    }\n",
       "\n",
       "    .dataframe tbody tr th {\n",
       "        vertical-align: top;\n",
       "    }\n",
       "\n",
       "    .dataframe thead th {\n",
       "        text-align: right;\n",
       "    }\n",
       "</style>\n",
       "<table border=\"1\" class=\"dataframe\">\n",
       "  <thead>\n",
       "    <tr style=\"text-align: right;\">\n",
       "      <th></th>\n",
       "      <th>Unnamed: 0</th>\n",
       "      <th>NCN</th>\n",
       "      <th>CNN</th>\n",
       "      <th>NCN_relative</th>\n",
       "      <th>CNN_relative</th>\n",
       "    </tr>\n",
       "  </thead>\n",
       "  <tbody>\n",
       "    <tr>\n",
       "      <th>0</th>\n",
       "      <td>0</td>\n",
       "      <td>0.849446</td>\n",
       "      <td>0.792107</td>\n",
       "      <td>0.836433</td>\n",
       "      <td>0.823004</td>\n",
       "    </tr>\n",
       "    <tr>\n",
       "      <th>1</th>\n",
       "      <td>1</td>\n",
       "      <td>1.034631</td>\n",
       "      <td>0.933361</td>\n",
       "      <td>1.080138</td>\n",
       "      <td>0.959481</td>\n",
       "    </tr>\n",
       "    <tr>\n",
       "      <th>2</th>\n",
       "      <td>2</td>\n",
       "      <td>0.631328</td>\n",
       "      <td>0.684715</td>\n",
       "      <td>0.917459</td>\n",
       "      <td>0.854538</td>\n",
       "    </tr>\n",
       "    <tr>\n",
       "      <th>3</th>\n",
       "      <td>3</td>\n",
       "      <td>0.746782</td>\n",
       "      <td>1.049156</td>\n",
       "      <td>0.940814</td>\n",
       "      <td>1.271830</td>\n",
       "    </tr>\n",
       "    <tr>\n",
       "      <th>4</th>\n",
       "      <td>4</td>\n",
       "      <td>0.986302</td>\n",
       "      <td>0.920129</td>\n",
       "      <td>0.980058</td>\n",
       "      <td>0.904827</td>\n",
       "    </tr>\n",
       "    <tr>\n",
       "      <th>...</th>\n",
       "      <td>...</td>\n",
       "      <td>...</td>\n",
       "      <td>...</td>\n",
       "      <td>...</td>\n",
       "      <td>...</td>\n",
       "    </tr>\n",
       "    <tr>\n",
       "      <th>4995</th>\n",
       "      <td>4995</td>\n",
       "      <td>0.946898</td>\n",
       "      <td>1.001427</td>\n",
       "      <td>0.928364</td>\n",
       "      <td>0.914521</td>\n",
       "    </tr>\n",
       "    <tr>\n",
       "      <th>4996</th>\n",
       "      <td>4996</td>\n",
       "      <td>1.027752</td>\n",
       "      <td>0.906994</td>\n",
       "      <td>1.027019</td>\n",
       "      <td>0.878891</td>\n",
       "    </tr>\n",
       "    <tr>\n",
       "      <th>4997</th>\n",
       "      <td>4997</td>\n",
       "      <td>1.031446</td>\n",
       "      <td>0.758941</td>\n",
       "      <td>1.467445</td>\n",
       "      <td>1.132829</td>\n",
       "    </tr>\n",
       "    <tr>\n",
       "      <th>4998</th>\n",
       "      <td>4998</td>\n",
       "      <td>1.222104</td>\n",
       "      <td>1.184776</td>\n",
       "      <td>1.419184</td>\n",
       "      <td>1.261632</td>\n",
       "    </tr>\n",
       "    <tr>\n",
       "      <th>4999</th>\n",
       "      <td>4999</td>\n",
       "      <td>0.700577</td>\n",
       "      <td>0.769698</td>\n",
       "      <td>0.779372</td>\n",
       "      <td>0.825371</td>\n",
       "    </tr>\n",
       "  </tbody>\n",
       "</table>\n",
       "<p>5000 rows × 5 columns</p>\n",
       "</div>"
      ],
      "text/plain": [
       "      Unnamed: 0       NCN       CNN  NCN_relative  CNN_relative\n",
       "0              0  0.849446  0.792107      0.836433      0.823004\n",
       "1              1  1.034631  0.933361      1.080138      0.959481\n",
       "2              2  0.631328  0.684715      0.917459      0.854538\n",
       "3              3  0.746782  1.049156      0.940814      1.271830\n",
       "4              4  0.986302  0.920129      0.980058      0.904827\n",
       "...          ...       ...       ...           ...           ...\n",
       "4995        4995  0.946898  1.001427      0.928364      0.914521\n",
       "4996        4996  1.027752  0.906994      1.027019      0.878891\n",
       "4997        4997  1.031446  0.758941      1.467445      1.132829\n",
       "4998        4998  1.222104  1.184776      1.419184      1.261632\n",
       "4999        4999  0.700577  0.769698      0.779372      0.825371\n",
       "\n",
       "[5000 rows x 5 columns]"
      ]
     },
     "execution_count": 9,
     "metadata": {},
     "output_type": "execute_result"
    }
   ],
   "source": [
    "\n",
    "df_corr = pd.read_csv(\"data/06_2022_results0_31gap_corr.csv\")\n",
    "df_corr "
   ]
  },
  {
   "cell_type": "code",
   "execution_count": 11,
   "metadata": {},
   "outputs": [
    {
     "ename": "ValueError",
     "evalue": "Could not interpret input 'Model'",
     "output_type": "error",
     "traceback": [
      "\u001b[0;31m---------------------------------------------------------------------------\u001b[0m",
      "\u001b[0;31mValueError\u001b[0m                                Traceback (most recent call last)",
      "\u001b[0;32m<ipython-input-11-f6706370c66f>\u001b[0m in \u001b[0;36m<module>\u001b[0;34m\u001b[0m\n\u001b[1;32m      1\u001b[0m \u001b[0mtitle\u001b[0m \u001b[0;34m=\u001b[0m \u001b[0;34m\"Effects correlation analysis\"\u001b[0m\u001b[0;34m\u001b[0m\u001b[0;34m\u001b[0m\u001b[0m\n\u001b[0;32m----> 2\u001b[0;31m \u001b[0max\u001b[0m \u001b[0;34m=\u001b[0m \u001b[0mbarplot\u001b[0m\u001b[0;34m(\u001b[0m\u001b[0mtitle\u001b[0m \u001b[0;34m=\u001b[0m \u001b[0mtitle\u001b[0m\u001b[0;34m,\u001b[0m \u001b[0mx\u001b[0m\u001b[0;34m=\u001b[0m\u001b[0;34m\"Model\"\u001b[0m\u001b[0;34m,\u001b[0m\u001b[0my\u001b[0m\u001b[0;34m=\u001b[0m\u001b[0;34m\"Correlation\"\u001b[0m\u001b[0;34m,\u001b[0m\u001b[0mhue\u001b[0m\u001b[0;34m=\u001b[0m\u001b[0;34m'Condition'\u001b[0m\u001b[0;34m,\u001b[0m\u001b[0mdata\u001b[0m\u001b[0;34m=\u001b[0m\u001b[0mdf_corr\u001b[0m\u001b[0;34m,\u001b[0m\u001b[0medgecolor\u001b[0m \u001b[0;34m=\u001b[0m \u001b[0;34m\"black\"\u001b[0m\u001b[0;34m,\u001b[0m\u001b[0mlinewidth\u001b[0m\u001b[0;34m=\u001b[0m\u001b[0;36m.8\u001b[0m\u001b[0;34m,\u001b[0m \u001b[0mcapsize\u001b[0m\u001b[0;34m=\u001b[0m\u001b[0;36m.02\u001b[0m\u001b[0;34m,\u001b[0m\u001b[0merrwidth\u001b[0m\u001b[0;34m=\u001b[0m\u001b[0;36m.5\u001b[0m\u001b[0;34m)\u001b[0m\u001b[0;34m\u001b[0m\u001b[0;34m\u001b[0m\u001b[0m\n\u001b[0m\u001b[1;32m      3\u001b[0m \u001b[0mplt\u001b[0m\u001b[0;34m.\u001b[0m\u001b[0msavefig\u001b[0m\u001b[0;34m(\u001b[0m\u001b[0;34mf\"figures/Effects_correlation_analysis.jpg\"\u001b[0m\u001b[0;34m,\u001b[0m\u001b[0mdpi\u001b[0m\u001b[0;34m=\u001b[0m\u001b[0;36m600\u001b[0m\u001b[0;34m)\u001b[0m\u001b[0;34m\u001b[0m\u001b[0;34m\u001b[0m\u001b[0m\n",
      "\u001b[0;32m<ipython-input-2-eb4109281a0f>\u001b[0m in \u001b[0;36mbarplot\u001b[0;34m(save_path, title, *arg, **kwarg)\u001b[0m\n\u001b[1;32m      6\u001b[0m         \u001b[0mfig\u001b[0m\u001b[0;34m,\u001b[0m \u001b[0max\u001b[0m \u001b[0;34m=\u001b[0m \u001b[0mplt\u001b[0m\u001b[0;34m.\u001b[0m\u001b[0msubplots\u001b[0m\u001b[0;34m(\u001b[0m\u001b[0;34m)\u001b[0m\u001b[0;34m\u001b[0m\u001b[0;34m\u001b[0m\u001b[0m\n\u001b[1;32m      7\u001b[0m \u001b[0;34m\u001b[0m\u001b[0m\n\u001b[0;32m----> 8\u001b[0;31m         \u001b[0msns\u001b[0m\u001b[0;34m.\u001b[0m\u001b[0mbarplot\u001b[0m\u001b[0;34m(\u001b[0m\u001b[0mpalette\u001b[0m\u001b[0;34m=\u001b[0m\u001b[0mcolor\u001b[0m\u001b[0;34m,\u001b[0m\u001b[0;34m*\u001b[0m\u001b[0marg\u001b[0m\u001b[0;34m,\u001b[0m\u001b[0;34m**\u001b[0m\u001b[0mkwarg\u001b[0m\u001b[0;34m)\u001b[0m\u001b[0;34m\u001b[0m\u001b[0;34m\u001b[0m\u001b[0m\n\u001b[0m\u001b[1;32m      9\u001b[0m         \u001b[0max\u001b[0m\u001b[0;34m.\u001b[0m\u001b[0mtick_params\u001b[0m\u001b[0;34m(\u001b[0m\u001b[0mright\u001b[0m\u001b[0;34m=\u001b[0m\u001b[0;32mFalse\u001b[0m\u001b[0;34m,\u001b[0m  \u001b[0mtop\u001b[0m\u001b[0;34m=\u001b[0m\u001b[0;32mFalse\u001b[0m\u001b[0;34m)\u001b[0m\u001b[0;34m\u001b[0m\u001b[0;34m\u001b[0m\u001b[0m\n\u001b[1;32m     10\u001b[0m         \u001b[0max\u001b[0m\u001b[0;34m.\u001b[0m\u001b[0mtick_params\u001b[0m\u001b[0;34m(\u001b[0m\u001b[0mright\u001b[0m\u001b[0;34m=\u001b[0m\u001b[0;32mFalse\u001b[0m\u001b[0;34m,\u001b[0m \u001b[0mwhich\u001b[0m\u001b[0;34m=\u001b[0m\u001b[0;34m'minor'\u001b[0m\u001b[0;34m,\u001b[0m \u001b[0mtop\u001b[0m\u001b[0;34m=\u001b[0m\u001b[0;32mFalse\u001b[0m\u001b[0;34m)\u001b[0m\u001b[0;34m\u001b[0m\u001b[0;34m\u001b[0m\u001b[0m\n",
      "\u001b[0;32m/rds/user/hpczeji1/hpc-work/anaconda3/envs/py36/lib/python3.6/site-packages/seaborn/_decorators.py\u001b[0m in \u001b[0;36minner_f\u001b[0;34m(*args, **kwargs)\u001b[0m\n\u001b[1;32m     44\u001b[0m             )\n\u001b[1;32m     45\u001b[0m         \u001b[0mkwargs\u001b[0m\u001b[0;34m.\u001b[0m\u001b[0mupdate\u001b[0m\u001b[0;34m(\u001b[0m\u001b[0;34m{\u001b[0m\u001b[0mk\u001b[0m\u001b[0;34m:\u001b[0m \u001b[0marg\u001b[0m \u001b[0;32mfor\u001b[0m \u001b[0mk\u001b[0m\u001b[0;34m,\u001b[0m \u001b[0marg\u001b[0m \u001b[0;32min\u001b[0m \u001b[0mzip\u001b[0m\u001b[0;34m(\u001b[0m\u001b[0msig\u001b[0m\u001b[0;34m.\u001b[0m\u001b[0mparameters\u001b[0m\u001b[0;34m,\u001b[0m \u001b[0margs\u001b[0m\u001b[0;34m)\u001b[0m\u001b[0;34m}\u001b[0m\u001b[0;34m)\u001b[0m\u001b[0;34m\u001b[0m\u001b[0;34m\u001b[0m\u001b[0m\n\u001b[0;32m---> 46\u001b[0;31m         \u001b[0;32mreturn\u001b[0m \u001b[0mf\u001b[0m\u001b[0;34m(\u001b[0m\u001b[0;34m**\u001b[0m\u001b[0mkwargs\u001b[0m\u001b[0;34m)\u001b[0m\u001b[0;34m\u001b[0m\u001b[0;34m\u001b[0m\u001b[0m\n\u001b[0m\u001b[1;32m     47\u001b[0m     \u001b[0;32mreturn\u001b[0m \u001b[0minner_f\u001b[0m\u001b[0;34m\u001b[0m\u001b[0;34m\u001b[0m\u001b[0m\n\u001b[1;32m     48\u001b[0m \u001b[0;34m\u001b[0m\u001b[0m\n",
      "\u001b[0;32m/rds/user/hpczeji1/hpc-work/anaconda3/envs/py36/lib/python3.6/site-packages/seaborn/categorical.py\u001b[0m in \u001b[0;36mbarplot\u001b[0;34m(x, y, hue, data, order, hue_order, estimator, ci, n_boot, units, seed, orient, color, palette, saturation, errcolor, errwidth, capsize, dodge, ax, **kwargs)\u001b[0m\n\u001b[1;32m   3183\u001b[0m                           \u001b[0mestimator\u001b[0m\u001b[0;34m,\u001b[0m \u001b[0mci\u001b[0m\u001b[0;34m,\u001b[0m \u001b[0mn_boot\u001b[0m\u001b[0;34m,\u001b[0m \u001b[0munits\u001b[0m\u001b[0;34m,\u001b[0m \u001b[0mseed\u001b[0m\u001b[0;34m,\u001b[0m\u001b[0;34m\u001b[0m\u001b[0;34m\u001b[0m\u001b[0m\n\u001b[1;32m   3184\u001b[0m                           \u001b[0morient\u001b[0m\u001b[0;34m,\u001b[0m \u001b[0mcolor\u001b[0m\u001b[0;34m,\u001b[0m \u001b[0mpalette\u001b[0m\u001b[0;34m,\u001b[0m \u001b[0msaturation\u001b[0m\u001b[0;34m,\u001b[0m\u001b[0;34m\u001b[0m\u001b[0;34m\u001b[0m\u001b[0m\n\u001b[0;32m-> 3185\u001b[0;31m                           errcolor, errwidth, capsize, dodge)\n\u001b[0m\u001b[1;32m   3186\u001b[0m \u001b[0;34m\u001b[0m\u001b[0m\n\u001b[1;32m   3187\u001b[0m     \u001b[0;32mif\u001b[0m \u001b[0max\u001b[0m \u001b[0;32mis\u001b[0m \u001b[0;32mNone\u001b[0m\u001b[0;34m:\u001b[0m\u001b[0;34m\u001b[0m\u001b[0;34m\u001b[0m\u001b[0m\n",
      "\u001b[0;32m/rds/user/hpczeji1/hpc-work/anaconda3/envs/py36/lib/python3.6/site-packages/seaborn/categorical.py\u001b[0m in \u001b[0;36m__init__\u001b[0;34m(self, x, y, hue, data, order, hue_order, estimator, ci, n_boot, units, seed, orient, color, palette, saturation, errcolor, errwidth, capsize, dodge)\u001b[0m\n\u001b[1;32m   1583\u001b[0m         \u001b[0;34m\"\"\"Initialize the plotter.\"\"\"\u001b[0m\u001b[0;34m\u001b[0m\u001b[0;34m\u001b[0m\u001b[0m\n\u001b[1;32m   1584\u001b[0m         self.establish_variables(x, y, hue, data, orient,\n\u001b[0;32m-> 1585\u001b[0;31m                                  order, hue_order, units)\n\u001b[0m\u001b[1;32m   1586\u001b[0m         \u001b[0mself\u001b[0m\u001b[0;34m.\u001b[0m\u001b[0mestablish_colors\u001b[0m\u001b[0;34m(\u001b[0m\u001b[0mcolor\u001b[0m\u001b[0;34m,\u001b[0m \u001b[0mpalette\u001b[0m\u001b[0;34m,\u001b[0m \u001b[0msaturation\u001b[0m\u001b[0;34m)\u001b[0m\u001b[0;34m\u001b[0m\u001b[0;34m\u001b[0m\u001b[0m\n\u001b[1;32m   1587\u001b[0m         \u001b[0mself\u001b[0m\u001b[0;34m.\u001b[0m\u001b[0mestimate_statistic\u001b[0m\u001b[0;34m(\u001b[0m\u001b[0mestimator\u001b[0m\u001b[0;34m,\u001b[0m \u001b[0mci\u001b[0m\u001b[0;34m,\u001b[0m \u001b[0mn_boot\u001b[0m\u001b[0;34m,\u001b[0m \u001b[0mseed\u001b[0m\u001b[0;34m)\u001b[0m\u001b[0;34m\u001b[0m\u001b[0;34m\u001b[0m\u001b[0m\n",
      "\u001b[0;32m/rds/user/hpczeji1/hpc-work/anaconda3/envs/py36/lib/python3.6/site-packages/seaborn/categorical.py\u001b[0m in \u001b[0;36mestablish_variables\u001b[0;34m(self, x, y, hue, data, orient, order, hue_order, units)\u001b[0m\n\u001b[1;32m    151\u001b[0m                 \u001b[0;32mif\u001b[0m \u001b[0misinstance\u001b[0m\u001b[0;34m(\u001b[0m\u001b[0mvar\u001b[0m\u001b[0;34m,\u001b[0m \u001b[0mstr\u001b[0m\u001b[0;34m)\u001b[0m\u001b[0;34m:\u001b[0m\u001b[0;34m\u001b[0m\u001b[0;34m\u001b[0m\u001b[0m\n\u001b[1;32m    152\u001b[0m                     \u001b[0merr\u001b[0m \u001b[0;34m=\u001b[0m \u001b[0;34m\"Could not interpret input '{}'\"\u001b[0m\u001b[0;34m.\u001b[0m\u001b[0mformat\u001b[0m\u001b[0;34m(\u001b[0m\u001b[0mvar\u001b[0m\u001b[0;34m)\u001b[0m\u001b[0;34m\u001b[0m\u001b[0;34m\u001b[0m\u001b[0m\n\u001b[0;32m--> 153\u001b[0;31m                     \u001b[0;32mraise\u001b[0m \u001b[0mValueError\u001b[0m\u001b[0;34m(\u001b[0m\u001b[0merr\u001b[0m\u001b[0;34m)\u001b[0m\u001b[0;34m\u001b[0m\u001b[0;34m\u001b[0m\u001b[0m\n\u001b[0m\u001b[1;32m    154\u001b[0m \u001b[0;34m\u001b[0m\u001b[0m\n\u001b[1;32m    155\u001b[0m             \u001b[0;31m# Figure out the plotting orientation\u001b[0m\u001b[0;34m\u001b[0m\u001b[0;34m\u001b[0m\u001b[0;34m\u001b[0m\u001b[0m\n",
      "\u001b[0;31mValueError\u001b[0m: Could not interpret input 'Model'"
     ]
    },
    {
     "data": {
      "image/png": "[encoded data removed]",
      "text/plain": [
       "<Figure size 237.6x180 with 1 Axes>"
      ]
     },
     "metadata": {
      "needs_background": "light"
     },
     "output_type": "display_data"
    }
   ],
   "source": [
    "title = \"Effects correlation analysis\"\n",
    "ax = barplot(title = title, x=\"Model\",y=\"Correlation\",hue='Condition',data=df_corr,edgecolor = \"black\",linewidth=.8, capsize=.02,errwidth=.5)\n",
    "plt.savefig(f\"figures/Effects_correlation_analysis.jpg\",dpi=600)"
   ]
  },
  {
   "cell_type": "code",
   "execution_count": 27,
   "metadata": {},
   "outputs": [
    {
     "data": {
      "image/png": "[encoded data removed]",
      "text/plain": [
       "<Figure size 237.6x180 with 1 Axes>"
      ]
     },
     "metadata": {
      "needs_background": "light"
     },
     "output_type": "display_data"
    }
   ],
   "source": [
    "titanic=sns.load_dataset('titanic')\n",
    "barplot_save_path = \"figures/barplot\"\n",
    "barplot(barplot_save_path,x='class',y='survived',data=titanic,edgecolor = \"black\")"
   ]
  },
  {
   "cell_type": "code",
   "execution_count": 28,
   "metadata": {},
   "outputs": [
    {
     "data": {
      "image/png": "[encoded data removed]",
      "text/plain": [
       "<Figure size 237.6x180 with 1 Axes>"
      ]
     },
     "metadata": {
      "needs_background": "light"
     },
     "output_type": "display_data"
    }
   ],
   "source": [
    "barplot(x='embarked',y='survived',\n",
    "                    hue='class',data=titanic,edgecolor = \"black\")"
   ]
  },
  {
   "cell_type": "code",
   "execution_count": 68,
   "metadata": {},
   "outputs": [
    {
     "name": "stderr",
     "output_type": "stream",
     "text": [
      "/rds/user/hpczeji1/hpc-work/anaconda3/envs/py36/lib/python3.6/site-packages/seaborn/distributions.py:2619: FutureWarning: `distplot` is a deprecated function and will be removed in a future version. Please adapt your code to use either `displot` (a figure-level function with similar flexibility) or `histplot` (an axes-level function for histograms).\n",
      "  warnings.warn(msg, FutureWarning)\n"
     ]
    },
    {
     "data": {
      "image/png": "[encoded data removed]",
      "text/plain": [
       "<Figure size 252x189 with 1 Axes>"
      ]
     },
     "metadata": {
      "needs_background": "light"
     },
     "output_type": "display_data"
    }
   ],
   "source": [
    "multibar_save_path = \"figures/multi_barplot\"\n",
    "distplot(multibar_save_path, x = titanic['age'].dropna(), color=color[2])"
   ]
  },
  {
   "cell_type": "code",
   "execution_count": 63,
   "metadata": {},
   "outputs": [
    {
     "name": "stderr",
     "output_type": "stream",
     "text": [
      "/rds/user/hpczeji1/hpc-work/anaconda3/envs/py36/lib/python3.6/site-packages/seaborn/distributions.py:2619: FutureWarning: `distplot` is a deprecated function and will be removed in a future version. Please adapt your code to use either `displot` (a figure-level function with similar flexibility) or `histplot` (an axes-level function for histograms).\n",
      "  warnings.warn(msg, FutureWarning)\n"
     ]
    },
    {
     "data": {
      "image/png": "[encoded data removed]",
      "text/plain": [
       "<Figure size 252x189 with 1 Axes>"
      ]
     },
     "metadata": {
      "needs_background": "light"
     },
     "output_type": "display_data"
    }
   ],
   "source": [
    "distplot(x = titanic['age'].dropna())"
   ]
  },
  {
   "cell_type": "code",
   "execution_count": 67,
   "metadata": {},
   "outputs": [
    {
     "data": {
      "image/png": "[encoded data removed]",
      "text/plain": [
       "<Figure size 237.6x180 with 1 Axes>"
      ]
     },
     "metadata": {
      "needs_background": "light"
     },
     "output_type": "display_data"
    }
   ],
   "source": [
    "countplot(x='deck',data=titanic)"
   ]
  },
  {
   "cell_type": "code",
   "execution_count": 20,
   "metadata": {},
   "outputs": [
    {
     "data": {
      "image/png": "[encoded data removed]",
      "text/plain": [
       "<Figure size 252x189 with 1 Axes>"
      ]
     },
     "metadata": {
      "needs_background": "light"
     },
     "output_type": "display_data"
    }
   ],
   "source": [
    "with plt.style.context(['science','no-latex']):  # ,\"ieee\"\n",
    "\n",
    "    \n",
    "    fig, ax = plt.subplots()\n",
    "    sns.barplot(x='class',y='survived',data=titanic)\n",
    "    ax.tick_params(right=False,  top=False) \n",
    "    ax.tick_params(right=False, whicbh='minor', top=False) \n",
    "    sns.despine()"
   ]
  },
  {
   "cell_type": "code",
   "execution_count": 100,
   "metadata": {},
   "outputs": [
    {
     "data": {
      "image/png": "[encoded data removed]",
      "text/plain": [
       "<Figure size 1980x1500 with 1 Axes>"
      ]
     },
     "metadata": {
      "needs_background": "light"
     },
     "output_type": "display_data"
    }
   ],
   "source": [
    "\n",
    "\n",
    "with plt.style.context(['science',\"ieee\",'no-latex']):\n",
    "    fig, ax = plt.subplots()\n",
    "\n",
    "    # Width of each bar in x-coordinates\n",
    "    width = 0.75\n",
    "\n",
    "    stdev = data.std()\n",
    "    # Positive error bars only\n",
    "    error = [np.zeros(len(stdev))+0.25, stdev]\n",
    "\n",
    "    # ax.bar(x-0.5, means, color='lightblue', edgecolor = \"black\", width=width/2, yerr=error, error_kw=error_kw, align='center')\n",
    "    ax.bar(x, means, color='lightgreen',edgecolor = \"black\", width=width/2, yerr=error, error_kw=error_kw, align='center')\n",
    "    ax.bar(x+0.5, means, color='lightgrey',edgecolor = \"black\", width=width/2, yerr=error, error_kw=error_kw, align='center')\n",
    "\n",
    "    ax.set_xlim(xlims)\n",
    "    ax.set_ylim(0, 15)\n",
    "    ax.tick_params(right=False,  top=False) \n",
    "    ax.tick_params(right=False, which='minor', top=False) \n",
    "    sns.despine()\n",
    "    \n",
    "\n"
   ]
  },
  {
   "cell_type": "code",
   "execution_count": 1,
   "metadata": {},
   "outputs": [],
   "source": []
  },
  {
   "cell_type": "code",
   "execution_count": 3,
   "metadata": {},
   "outputs": [
    {
     "data": {
      "text/plain": [
       "'#ffebee'"
      ]
     },
     "execution_count": 3,
     "metadata": {},
     "output_type": "execute_result"
    }
   ],
   "source": []
  },
  {
   "cell_type": "code",
   "execution_count": 5,
   "metadata": {},
   "outputs": [
    {
     "data": {
      "text/plain": [
       "{'red': {0: '#ffebee',\n",
       "  1: '#ffcdd2',\n",
       "  2: '#ef9a9a',\n",
       "  3: '#e57373',\n",
       "  4: '#ef5350',\n",
       "  5: '#f44336',\n",
       "  6: '#e53935',\n",
       "  7: '#d32f2f',\n",
       "  8: '#c62828',\n",
       "  9: '#b71c1c'},\n",
       " 'pink': {0: '#fce4ec',\n",
       "  1: '#f8bbd0',\n",
       "  2: '#f48fb1',\n",
       "  3: '#f06292',\n",
       "  4: '#ec407a',\n",
       "  5: '#e91e63',\n",
       "  6: '#d81b60',\n",
       "  7: '#c2185b',\n",
       "  8: '#ad1457',\n",
       "  9: '#880e4f'},\n",
       " 'purple': {0: '#f3e5f5',\n",
       "  1: '#e1bee7',\n",
       "  2: '#ce93d8',\n",
       "  3: '#ba68c8',\n",
       "  4: '#ab47bc',\n",
       "  5: '#9c27b0',\n",
       "  6: '#8e24aa',\n",
       "  7: '#7b1fa2',\n",
       "  8: '#6a1b9a',\n",
       "  9: '#4a148c'},\n",
       " 'deep purple': {0: '#ede7f6',\n",
       "  1: '#d1c4e9',\n",
       "  2: '#b39ddb',\n",
       "  3: '#9575cd',\n",
       "  4: '#7e57c2',\n",
       "  5: '#673ab7',\n",
       "  6: '#5e35b1',\n",
       "  7: '#512da8',\n",
       "  8: '#4527a0',\n",
       "  9: '#311b92'},\n",
       " 'indigo': {0: '#e8eaf6',\n",
       "  1: '#c5cae9',\n",
       "  2: '#9fa8da',\n",
       "  3: '#7986cb',\n",
       "  4: '#5c6bc0',\n",
       "  5: '#3f51b5',\n",
       "  6: '#3949ab',\n",
       "  7: '#303f9f',\n",
       "  8: '#283593',\n",
       "  9: '#1a237e'},\n",
       " 'blue': {0: '#e3f2fd',\n",
       "  1: '#bbdefb',\n",
       "  2: '#90caf9',\n",
       "  3: '#64b5f6',\n",
       "  4: '#42a5f5',\n",
       "  5: '#2196f3',\n",
       "  6: '#1e88e5',\n",
       "  7: '#1976d2',\n",
       "  8: '#1565c0',\n",
       "  9: '#0d47a1'},\n",
       " 'light blue': {0: '#e1f5fe',\n",
       "  1: '#b3e5fc',\n",
       "  2: '#81d4fa',\n",
       "  3: '#4fc3f7',\n",
       "  4: '#29b6f6',\n",
       "  5: '#03a9f4',\n",
       "  6: '#039be5',\n",
       "  7: '#0288d1',\n",
       "  8: '#0277bd',\n",
       "  9: '#01579b'},\n",
       " 'cyan': {0: '#e0f7fa',\n",
       "  1: '#b2ebf2',\n",
       "  2: '#80deea',\n",
       "  3: '#4dd0e1',\n",
       "  4: '#26c6da',\n",
       "  5: '#00bcd4',\n",
       "  6: '#00acc1',\n",
       "  7: '#0097a7',\n",
       "  8: '#00838f',\n",
       "  9: '#006064'},\n",
       " 'teal': {0: '#e0f2f1',\n",
       "  1: '#b2dfdb',\n",
       "  2: '#80cbc4',\n",
       "  3: '#4db6ac',\n",
       "  4: '#26a69a',\n",
       "  5: '#009688',\n",
       "  6: '#00897b',\n",
       "  7: '#00796b',\n",
       "  8: '#00695c',\n",
       "  9: '#004d40'},\n",
       " 'green': {0: '#e8f5e9',\n",
       "  1: '#c8e6c9',\n",
       "  2: '#a5d6a7',\n",
       "  3: '#81c784',\n",
       "  4: '#66bb6a',\n",
       "  5: '#4caf50',\n",
       "  6: '#43a047',\n",
       "  7: '#388e3c',\n",
       "  8: '#2e7d32',\n",
       "  9: '#1b5e20'},\n",
       " 'light green': {0: '#f1f8e9',\n",
       "  1: '#dcedc8',\n",
       "  2: '#c5e1a5',\n",
       "  3: '#aed581',\n",
       "  4: '#9ccc65',\n",
       "  5: '#8bc34a',\n",
       "  6: '#7cb342',\n",
       "  7: '#689f38',\n",
       "  8: '#558b2f',\n",
       "  9: '#33691e'},\n",
       " 'lime': {0: '#f9fbe7',\n",
       "  1: '#f0f4c3',\n",
       "  2: '#e6ee9c',\n",
       "  3: '#dce775',\n",
       "  4: '#d4e157',\n",
       "  5: '#cddc39',\n",
       "  6: '#c0ca33',\n",
       "  7: '#afb42b',\n",
       "  8: '#9e9d24',\n",
       "  9: '#827717'},\n",
       " 'yellow': {0: '#fffde7',\n",
       "  1: '#fff9c4',\n",
       "  2: '#fff59d',\n",
       "  3: '#fff176',\n",
       "  4: '#ffee58',\n",
       "  5: '#ffeb3b',\n",
       "  6: '#fdd835',\n",
       "  7: '#fbc02d',\n",
       "  8: '#f9a825',\n",
       "  9: '#f57f17'},\n",
       " 'amber': {0: '#fff8e1',\n",
       "  1: '#ffecb3',\n",
       "  2: '#ffe082',\n",
       "  3: '#ffd54f',\n",
       "  4: '#ffca28',\n",
       "  5: '#ffc107',\n",
       "  6: '#ffb300',\n",
       "  7: '#ffa000',\n",
       "  8: '#ff8f00',\n",
       "  9: '#ff6f00'},\n",
       " 'orange': {0: '#fff3e0',\n",
       "  1: '#ffe0b2',\n",
       "  2: '#ffcc80',\n",
       "  3: '#ffb74d',\n",
       "  4: '#ffa726',\n",
       "  5: '#ff9800',\n",
       "  6: '#fb8c00',\n",
       "  7: '#f57c00',\n",
       "  8: '#ef6c00',\n",
       "  9: '#e65100'},\n",
       " 'deep orange': {0: '#fbe9e7',\n",
       "  1: '#ffccbc',\n",
       "  2: '#ffab91',\n",
       "  3: '#ff8a65',\n",
       "  4: '#ff7043',\n",
       "  5: '#ff5722',\n",
       "  6: '#f4511e',\n",
       "  7: '#e64a19',\n",
       "  8: '#d84315',\n",
       "  9: '#bf360c'},\n",
       " 'brown': {0: '#efebe9',\n",
       "  1: '#d7ccc8',\n",
       "  2: '#bcaaa4',\n",
       "  3: '#a1887f',\n",
       "  4: '#8d6e63',\n",
       "  5: '#795548',\n",
       "  6: '#6d4c41',\n",
       "  7: '#5d4037',\n",
       "  8: '#4e342e',\n",
       "  9: '#3e2723'},\n",
       " 'grey': {0: '#fafafa',\n",
       "  1: '#f5f5f5',\n",
       "  2: '#eeeeee',\n",
       "  3: '#e0e0e0',\n",
       "  4: '#bdbdbd',\n",
       "  5: '#9e9e9e',\n",
       "  6: '#757575',\n",
       "  7: '#616161',\n",
       "  8: '#424242',\n",
       "  9: '#212121'},\n",
       " 'blue grey': {0: '#eceff1',\n",
       "  1: '#cfd8dc',\n",
       "  2: '#b0bec5',\n",
       "  3: '#90a4ae',\n",
       "  4: '#78909c',\n",
       "  5: '#607d8b',\n",
       "  6: '#546e7a',\n",
       "  7: '#455a64',\n",
       "  8: '#37474f',\n",
       "  9: '#263238'}}"
      ]
     },
     "execution_count": 5,
     "metadata": {},
     "output_type": "execute_result"
    }
   ],
   "source": [
    "colors.colors"
   ]
  },
  {
   "cell_type": "code",
   "execution_count": null,
   "metadata": {},
   "outputs": [
    {
     "data": {
      "image/png": "[encoded data removed]",
      "text/plain": [
       "<Figure size 576x288 with 1 Axes>"
      ]
     },
     "metadata": {
      "needs_background": "light"
     },
     "output_type": "display_data"
    }
   ],
   "source": [
    "material = {\n",
    "    \"red\": {\n",
    "        0: \"#ffebee\",\n",
    "        1: \"#ffcdd2\",\n",
    "        2: \"#ef9a9a\",\n",
    "        3: \"#e57373\",\n",
    "        4: \"#ef5350\",\n",
    "        5: \"#f44336\",\n",
    "        6: \"#e53935\",\n",
    "        7: \"#d32f2f\",\n",
    "        8: \"#c62828\",\n",
    "        9: \"#b71c1c\",\n",
    "    },\n",
    "    \"pink\": {\n",
    "        0: \"#fce4ec\",\n",
    "        1: \"#f8bbd0\",\n",
    "        2: \"#f48fb1\",\n",
    "        3: \"#f06292\",\n",
    "        4: \"#ec407a\",\n",
    "        5: \"#e91e63\",\n",
    "        6: \"#d81b60\",\n",
    "        7: \"#c2185b\",\n",
    "        8: \"#ad1457\",\n",
    "        9: \"#880e4f\",\n",
    "    },\n",
    "    \"purple\": {\n",
    "        0: \"#f3e5f5\",\n",
    "        1: \"#e1bee7\",\n",
    "        2: \"#ce93d8\",\n",
    "        3: \"#ba68c8\",\n",
    "        4: \"#ab47bc\",\n",
    "        5: \"#9c27b0\",\n",
    "        6: \"#8e24aa\",\n",
    "        7: \"#7b1fa2\",\n",
    "        8: \"#6a1b9a\",\n",
    "        9: \"#4a148c\",\n",
    "    },\n",
    "    \"deep purple\": {\n",
    "        0: \"#ede7f6\",\n",
    "        1: \"#d1c4e9\",\n",
    "        2: \"#b39ddb\",\n",
    "        3: \"#9575cd\",\n",
    "        4: \"#7e57c2\",\n",
    "        5: \"#673ab7\",\n",
    "        6: \"#5e35b1\",\n",
    "        7: \"#512da8\",\n",
    "        8: \"#4527a0\",\n",
    "        9: \"#311b92\",\n",
    "    },\n",
    "    \"indigo\": {\n",
    "        0: \"#e8eaf6\",\n",
    "        1: \"#c5cae9\",\n",
    "        2: \"#9fa8da\",\n",
    "        3: \"#7986cb\",\n",
    "        4: \"#5c6bc0\",\n",
    "        5: \"#3f51b5\",\n",
    "        6: \"#3949ab\",\n",
    "        7: \"#303f9f\",\n",
    "        8: \"#283593\",\n",
    "        9: \"#1a237e\",\n",
    "    },\n",
    "    \"blue\": {\n",
    "        0: \"#e3f2fd\",\n",
    "        1: \"#bbdefb\",\n",
    "        2: \"#90caf9\",\n",
    "        3: \"#64b5f6\",\n",
    "        4: \"#42a5f5\",\n",
    "        5: \"#2196f3\",\n",
    "        6: \"#1e88e5\",\n",
    "        7: \"#1976d2\",\n",
    "        8: \"#1565c0\",\n",
    "        9: \"#0d47a1\",\n",
    "    },\n",
    "    \"light blue\": {\n",
    "        0: \"#e1f5fe\",\n",
    "        1: \"#b3e5fc\",\n",
    "        2: \"#81d4fa\",\n",
    "        3: \"#4fc3f7\",\n",
    "        4: \"#29b6f6\",\n",
    "        5: \"#03a9f4\",\n",
    "        6: \"#039be5\",\n",
    "        7: \"#0288d1\",\n",
    "        8: \"#0277bd\",\n",
    "        9: \"#01579b\",\n",
    "    },\n",
    "    \"cyan\": {\n",
    "        0: \"#e0f7fa\",\n",
    "        1: \"#b2ebf2\",\n",
    "        2: \"#80deea\",\n",
    "        3: \"#4dd0e1\",\n",
    "        4: \"#26c6da\",\n",
    "        5: \"#00bcd4\",\n",
    "        6: \"#00acc1\",\n",
    "        7: \"#0097a7\",\n",
    "        8: \"#00838f\",\n",
    "        9: \"#006064\",\n",
    "    },\n",
    "    \"teal\": {\n",
    "        0: \"#e0f2f1\",\n",
    "        1: \"#b2dfdb\",\n",
    "        2: \"#80cbc4\",\n",
    "        3: \"#4db6ac\",\n",
    "        4: \"#26a69a\",\n",
    "        5: \"#009688\",\n",
    "        6: \"#00897b\",\n",
    "        7: \"#00796b\",\n",
    "        8: \"#00695c\",\n",
    "        9: \"#004d40\",\n",
    "    },\n",
    "    \"green\": {\n",
    "        0: \"#e8f5e9\",\n",
    "        1: \"#c8e6c9\",\n",
    "        2: \"#a5d6a7\",\n",
    "        3: \"#81c784\",\n",
    "        4: \"#66bb6a\",\n",
    "        5: \"#4caf50\",\n",
    "        6: \"#43a047\",\n",
    "        7: \"#388e3c\",\n",
    "        8: \"#2e7d32\",\n",
    "        9: \"#1b5e20\",\n",
    "    },\n",
    "    \"light green\": {\n",
    "        0: \"#f1f8e9\",\n",
    "        1: \"#dcedc8\",\n",
    "        2: \"#c5e1a5\",\n",
    "        3: \"#aed581\",\n",
    "        4: \"#9ccc65\",\n",
    "        5: \"#8bc34a\",\n",
    "        6: \"#7cb342\",\n",
    "        7: \"#689f38\",\n",
    "        8: \"#558b2f\",\n",
    "        9: \"#33691e\",\n",
    "    },\n",
    "    \"lime\": {\n",
    "        0: \"#f9fbe7\",\n",
    "        1: \"#f0f4c3\",\n",
    "        2: \"#e6ee9c\",\n",
    "        3: \"#dce775\",\n",
    "        4: \"#d4e157\",\n",
    "        5: \"#cddc39\",\n",
    "        6: \"#c0ca33\",\n",
    "        7: \"#afb42b\",\n",
    "        8: \"#9e9d24\",\n",
    "        9: \"#827717\",\n",
    "    },\n",
    "    \"yellow\": {\n",
    "        0: \"#fffde7\",\n",
    "        1: \"#fff9c4\",\n",
    "        2: \"#fff59d\",\n",
    "        3: \"#fff176\",\n",
    "        4: \"#ffee58\",\n",
    "        5: \"#ffeb3b\",\n",
    "        6: \"#fdd835\",\n",
    "        7: \"#fbc02d\",\n",
    "        8: \"#f9a825\",\n",
    "        9: \"#f57f17\",\n",
    "    },\n",
    "    \"amber\": {\n",
    "        0: \"#fff8e1\",\n",
    "        1: \"#ffecb3\",\n",
    "        2: \"#ffe082\",\n",
    "        3: \"#ffd54f\",\n",
    "        4: \"#ffca28\",\n",
    "        5: \"#ffc107\",\n",
    "        6: \"#ffb300\",\n",
    "        7: \"#ffa000\",\n",
    "        8: \"#ff8f00\",\n",
    "        9: \"#ff6f00\",\n",
    "    },\n",
    "    \"orange\": {\n",
    "        0: \"#fff3e0\",\n",
    "        1: \"#ffe0b2\",\n",
    "        2: \"#ffcc80\",\n",
    "        3: \"#ffb74d\",\n",
    "        4: \"#ffa726\",\n",
    "        5: \"#ff9800\",\n",
    "        6: \"#fb8c00\",\n",
    "        7: \"#f57c00\",\n",
    "        8: \"#ef6c00\",\n",
    "        9: \"#e65100\",\n",
    "    },\n",
    "    \"deep orange\": {\n",
    "        0: \"#fbe9e7\",\n",
    "        1: \"#ffccbc\",\n",
    "        2: \"#ffab91\",\n",
    "        3: \"#ff8a65\",\n",
    "        4: \"#ff7043\",\n",
    "        5: \"#ff5722\",\n",
    "        6: \"#f4511e\",\n",
    "        7: \"#e64a19\",\n",
    "        8: \"#d84315\",\n",
    "        9: \"#bf360c\",\n",
    "    },\n",
    "    \"brown\": {\n",
    "        0: \"#efebe9\",\n",
    "        1: \"#d7ccc8\",\n",
    "        2: \"#bcaaa4\",\n",
    "        3: \"#a1887f\",\n",
    "        4: \"#8d6e63\",\n",
    "        5: \"#795548\",\n",
    "        6: \"#6d4c41\",\n",
    "        7: \"#5d4037\",\n",
    "        8: \"#4e342e\",\n",
    "        9: \"#3e2723\",\n",
    "    },\n",
    "    \"grey\": {\n",
    "        0: \"#fafafa\",\n",
    "        1: \"#f5f5f5\",\n",
    "        2: \"#eeeeee\",\n",
    "        3: \"#e0e0e0\",\n",
    "        4: \"#bdbdbd\",\n",
    "        5: \"#9e9e9e\",\n",
    "        6: \"#757575\",\n",
    "        7: \"#616161\",\n",
    "        8: \"#424242\",\n",
    "        9: \"#212121\",\n",
    "    },\n",
    "    \"blue grey\": {\n",
    "        0: \"#eceff1\",\n",
    "        1: \"#cfd8dc\",\n",
    "        2: \"#b0bec5\",\n",
    "        3: \"#90a4ae\",\n",
    "        4: \"#78909c\",\n",
    "        5: \"#607d8b\",\n",
    "        6: \"#546e7a\",\n",
    "        7: \"#455a64\",\n",
    "        8: \"#37474f\",\n",
    "        9: \"#263238\",\n",
    "    },\n",
    "}\n",
    "\n",
    "import matplotlib.patches as mpatches\n",
    "with plt.style.context(['science','no-latex']):\n",
    "    np.random.seed(123)\n",
    "    plt.figure(figsize=(8, 4))\n",
    "    ax = plt.subplot(1, 1, 1, frameon=False)\n",
    "\n",
    "\n",
    "    def bars(origin, color, n, index):\n",
    "        X = origin + np.arange(n)\n",
    "        H = 20 * np.random.uniform(1.0, 5.0, n)\n",
    "        H.sort()\n",
    "\n",
    "        ax.bar(\n",
    "            X,\n",
    "            H,\n",
    "            width=1.0,\n",
    "            align=\"edge\",\n",
    "            color=[material[color][1 + 2 * i] for i in range(n)],\n",
    "        )\n",
    "        ax.plot([origin - 0.5, origin + n + 0.5], [0, 0], color=\"black\", lw=2.5)\n",
    "        ax.text(origin + n / 2, -1, \"Group \" + index, va=\"top\", ha=\"center\")\n",
    "\n",
    "\n",
    "    ax.axhline(50, 0.05, 1, color=\"0.5\", linewidth=0.5, linestyle=\"--\", zorder=-10)\n",
    "    ax.axhline(100, 0.05, 1, color=\"0.5\", linewidth=0.5, linestyle=\"--\", zorder=-10)\n",
    "\n",
    "    n = 2\n",
    "    bars(0 * (n + 2), \"red\", n, \"A\")\n",
    "    bars(1 * (n + 2), \"grey\", n, \"B\")  # indigo\n",
    "    # bars(2 * (n + 2), \"orange\", n, \"C\")\n",
    "    # bars(3 * (n + 2), \"light green\", n, \"D\")  # teal\n",
    "    # bars(4 * (n + 2), \"pink\", n, \"E\")\n",
    "    # bars(5 * (n + 2), \"light blue\", n, \"F\")  # cyan\n",
    "\n",
    "    ax.set_xlim(-2, 6 * (n + 2) - 1.5)\n",
    "    ax.set_xticks([])\n",
    "    ax.set_ylim(0, 111)\n",
    "    ax.set_yticks([0, 50, 100])\n",
    "    ax.set_yticklabels([\"0%\", \"50%\", \"100%\"])\n",
    "\n",
    "\n",
    "    plt.legend(\n",
    "        # bbox_to_anchor=(0.0, 1.0, 1.0, 0.1),\n",
    "        loc=\"upper right\",\n",
    "        borderaxespad=0.0,\n",
    "        ncol=3,\n",
    "        handles=[\n",
    "            mpatches.Patch(color=material[\"blue grey\"][1], label=\"2018\"),\n",
    "            mpatches.Patch(color=material[\"blue grey\"][3], label=\"2019\"),\n",
    "            mpatches.Patch(color=material[\"blue grey\"][5], label=\"2020\"),\n",
    "        ],\n",
    "    )\n",
    "\n",
    "\n",
    "    plt.tight_layout()\n",
    "    plt.savefig(\"figures/colored-hist.pdf\")\n",
    "    plt.savefig(\"figures/colored-hist.jpg\")\n",
    "    plt.show()"
   ]
  },
  {
   "cell_type": "code",
   "execution_count": null,
   "metadata": {},
   "outputs": [],
   "source": [
    "def bars_plot(X, H ,xyparam= None,**pparam):\n",
    "    with plt.style.context(['science','no-latex']):\n",
    "        np.random.seed(123)\n",
    "        fig, ax = plt.subplots()  "
   ]
  },
  {
   "cell_type": "code",
   "execution_count": null,
   "metadata": {},
   "outputs": [
    {
     "data": {
      "text/plain": [
       "array([3.87787588, 2.69242584])"
      ]
     },
     "execution_count": 7,
     "metadata": {},
     "output_type": "execute_result"
    }
   ],
   "source": [
    "np.random.uniform(1.0, 5.0, n)"
   ]
  },
  {
   "cell_type": "code",
   "execution_count": null,
   "metadata": {},
   "outputs": [],
   "source": [
    "import matplotlib.patches as mpatches\n",
    "with plt.style.context(['science','no-latex']):\n",
    "    np.random.seed(123)\n",
    "    plt.figure() #figsize=(8, 4)\n",
    "    ax = plt.subplot(1, 1, 1, frameon=False)\n",
    "\n",
    "\n",
    "    def bars(origin, color, n, index):\n",
    "        X = origin + np.arange(n)\n",
    "        H = 20 * np.random.uniform(1.0, 5.0, n)\n",
    "        H.sort()\n",
    "\n",
    "        ax.bar(\n",
    "            X,\n",
    "            H,\n",
    "            width=1.0,\n",
    "            align=\"edge\",\n",
    "            color=[material[color][1 + 2 * i] for i in range(n)],\n",
    "        )\n",
    "        ax.plot([origin - 0.5, origin + n + 0.5], [0, 0], color=\"black\", lw=2.5)\n",
    "        ax.text(origin + n / 2, -1, \"Group \" + index, va=\"top\", ha=\"center\")\n",
    "\n",
    "\n",
    "    ax.axhline(50, 0.05, 1, color=\"0.5\", linewidth=0.5, linestyle=\"--\", zorder=-10)\n",
    "    ax.axhline(100, 0.05, 1, color=\"0.5\", linewidth=0.5, linestyle=\"--\", zorder=-10)\n",
    "\n",
    "    n = 2\n",
    "    bars(0 * (n + 2), \"red\", n, \"A\")\n",
    "    bars(1 * (n + 2), \"grey\", n, \"B\")  # indigo\n",
    "    # bars(2 * (n + 2), \"orange\", n, \"C\")\n",
    "    # bars(3 * (n + 2), \"light green\", n, \"D\")  # teal\n",
    "    # bars(4 * (n + 2), \"pink\", n, \"E\")\n",
    "    # bars(5 * (n + 2), \"light blue\", n, \"F\")  # cyan\n",
    "\n",
    "    ax.set_xlim(-2, 6 * (n + 2) - 1.5)\n",
    "    ax.set_xticks([])\n",
    "    ax.set_ylim(0, 111)\n",
    "    ax.set_yticks([0, 50, 100])\n",
    "    ax.set_yticklabels([\"0%\", \"50%\", \"100%\"])\n",
    "\n",
    "\n",
    "    plt.legend(\n",
    "        # bbox_to_anchor=(0.0, 1.0, 1.0, 0.1),\n",
    "        loc=\"upper right\",\n",
    "        borderaxespad=0.0,\n",
    "        ncol=3,\n",
    "        handles=[\n",
    "            # mpatches.Patch(color=material[\"blue grey\"][1], label=\"2018\"),\n",
    "            mpatches.Patch(color=material[\"blue grey\"][3], label=\"2019\"),\n",
    "            mpatches.Patch(color=material[\"blue grey\"][5], label=\"2020\"),\n",
    "        ],\n",
    "    )\n",
    "\n",
    "\n",
    "    plt.tight_layout()\n",
    "    plt.savefig(\"figures/colored-hist.pdf\")\n",
    "    plt.savefig(\"figures/colored-hist.jpg\")\n",
    "    plt.show()"
   ]
  },
  {
   "cell_type": "code",
   "execution_count": null,
   "metadata": {},
   "outputs": [
    {
     "data": {
      "text/plain": [
       "[array([0.25, 0.25, 0.25, 0.25, 0.25]),\n",
       " Group_1    1.617069\n",
       " Group_2    1.131794\n",
       " Group_3    2.170285\n",
       " Group_4    0.516051\n",
       " Group_5    0.098938\n",
       " dtype: float64]"
      ]
     },
     "execution_count": 22,
     "metadata": {},
     "output_type": "execute_result"
    }
   ],
   "source": [
    "[np.zeros(len(stdev))+0.25, stdev]"
   ]
  },
  {
   "cell_type": "code",
   "execution_count": null,
   "metadata": {},
   "outputs": [
    {
     "name": "stderr",
     "output_type": "stream",
     "text": [
      "findfont: Font family ['serif'] not found. Falling back to DejaVu Sans.\n",
      "findfont: Generic family 'serif' not found because none of the following families were found: Times\n",
      "findfont: Font family ['serif'] not found. Falling back to DejaVu Sans.\n",
      "findfont: Generic family 'serif' not found because none of the following families were found: Times\n"
     ]
    },
    {
     "name": "stdout",
     "output_type": "stream",
     "text": [
      "[0 1]\n"
     ]
    },
    {
     "data": {
      "image/png": "[encoded data removed]",
      "text/plain": [
       "<Figure size 1980x1500 with 1 Axes>"
      ]
     },
     "metadata": {
      "needs_background": "light"
     },
     "output_type": "display_data"
    }
   ],
   "source": [
    "\n",
    "# with plt.style.context(['science',\"ieee\",'no-latex']):\n",
    "#     fig, ax = plt.subplots()\n",
    "\n",
    "#     # Width of each bar in x-coordinates\n",
    "#     width = 0.75\n",
    "\n",
    "#     stdev = data.std()\n",
    "#     # Positive error bars only\n",
    "#     error = [np.zeros(len(stdev))+0.25, stdev]\n",
    "\n",
    "#     # ax.bar(x-0.5, means, color='lightblue', edgecolor = \"black\", width=width/2, yerr=error, error_kw=error_kw, align='center')\n",
    "#     ax.bar(x, means, color='lightgreen',edgecolor = \"black\", width=width/2, yerr=error, error_kw=error_kw, align='center')\n",
    "#     ax.bar(x+0.5, means, color='lightgrey',edgecolor = \"black\", width=width/2, yerr=error, error_kw=error_kw, align='center')\n",
    "\n",
    "#     ax.set_xlim(xlims)\n",
    "#     ax.set_ylim(0, 15)\n",
    "\n",
    "xlabels = ['NCN', 'CNN']\n",
    "listA = [1-0.552285,1-0.716834]\n",
    "listB = [0.2305,0.175554]\n",
    "errorA = [0,0]\n",
    "errorB = [0.01,0.01]\n",
    "error_kw = {'capsize': 2, 'capthick': 0.5, 'ecolor': 'black'}\n",
    "ylabel = 'Similarity'\n",
    "title = 'Similarity Comparison after Categories Permutation'\n",
    "labels = [\"Unpermuted\",\"Permuted\"]\n",
    "def plot_bar_wo_error(listA,listB, xlabels, ylabel,title,labels):\n",
    "    with plt.style.context(['science',\"ieee\",'no-latex']):\n",
    "        x = np.arange(len(xlabels))  # the label locations\n",
    "        print(x)\n",
    "        width = 0.35  # the width of the bars\n",
    "\n",
    "        fig, ax = plt.subplots()\n",
    "        rects1 = ax.bar(x - width/2, listA, width, error_kw=error_kw,label=labels[0])  # , yerr=errorA\n",
    "        rects2 = ax.bar(x + width/2,  listB, width, yerr=errorB, error_kw=error_kw, label=labels[1])  # yerr=[0.01,0.01],\n",
    "\n",
    "        # Add some text for labels, title and custom x-axis tick labels, etc.\n",
    "\n",
    "        ax.set_xticks(x, xlabels)\n",
    "        ax.set_ylabel(ylabel)\n",
    "        ax.set_title(title)\n",
    "\n",
    "        # ax.set_xticklabels(['NCN','','','', 'CNN'])\n",
    "        \n",
    "        ax.legend()\n",
    "        ax.autoscale()  # tight=True\n",
    "\n",
    "        # ax.bar_label(rects1, padding=3)\n",
    "        # ax.bar_label(rects2, padding=3)\n",
    "\n",
    "        # fig.tight_layout()\n",
    "    \n",
    "        fig.savefig(f'figures/figBar.svg')\n",
    "        fig.savefig(f'figures/figBar.jpg', dpi=300)\n",
    "    plt.show()\n",
    "\n",
    "plot_bar_wo_error(listA,listB, xlabels, ylabel,title, labels )"
   ]
  },
  {
   "cell_type": "code",
   "execution_count": null,
   "metadata": {
    "collapsed": true
   },
   "outputs": [
    {
     "data": {
      "image/png": "[encoded data removed]",
      "text/plain": [
       "<Figure size 432x288 with 1 Axes>"
      ]
     },
     "metadata": {
      "needs_background": "light"
     },
     "output_type": "display_data"
    }
   ],
   "source": [
    "import matplotlib.pyplot as plt\n",
    "import numpy as np\n",
    "\n",
    "\n",
    "labels = ['G1', 'G2', 'G3', 'G4', 'G5']\n",
    "men_means = [20, 34, 30, 35, 27]\n",
    "women_means = [25, 32, 34, 20, 25]\n",
    "\n",
    "x = np.arange(len(labels))  # the label locations\n",
    "width = 0.35  # the width of the bars\n",
    "\n",
    "fig, ax = plt.subplots()\n",
    "rects1 = ax.bar(x - width/2, men_means, width, label='Men')\n",
    "rects2 = ax.bar(x + width/2, women_means, width, label='Women')\n",
    "\n",
    "# Add some text for labels, title and custom x-axis tick labels, etc.\n",
    "ax.set_ylabel('Scores')\n",
    "ax.set_title('Scores by group and gender')\n",
    "ax.set_xticks(x)\n",
    "ax.set_xticklabels(labels)\n",
    "ax.legend()\n",
    "\n",
    "ax.bar_label(rects1, padding=3)\n",
    "ax.bar_label(rects2, padding=3)\n",
    "\n",
    "fig.tight_layout()\n",
    "\n",
    "plt.show()"
   ]
  },
  {
   "cell_type": "code",
   "execution_count": null,
   "metadata": {
    "collapsed": false,
    "pycharm": {
     "name": "#%%\n"
    }
   },
   "outputs": [
    {
     "data": {
      "image/png": "[encoded data removed]",
      "text/plain": [
       "<Figure size 432x288 with 1 Axes>"
      ]
     },
     "metadata": {
      "needs_background": "light"
     },
     "output_type": "display_data"
    }
   ],
   "source": [
    "import numpy as np\n",
    "import matplotlib.pyplot as plt\n",
    "data = [[30, 25, 50, 20],\n",
    "[40, 23, 51, 17],\n",
    "[35, 22, 45, 19]]\n",
    "X = np.arange(4)\n",
    "fig = plt.figure()\n",
    "ax = fig.add_axes([0,0,1,1])\n",
    "ax.bar(X + 0.00, data[0], color = 'b', width = 0.25)\n",
    "ax.bar(X + 0.25, data[1], color = 'g', width = 0.25)\n",
    "ax.bar(X + 0.50, data[2], color = 'r', width = 0.25)\n",
    "\n",
    "plt.savefig(\"D:\\\\3F_Career_Development\\\\3-2_Work\\\\Codebase/AllAbout_DeepLearning/Visulization/test.png\",dpi = 600)"
   ]
  },
  {
   "cell_type": "code",
   "execution_count": null,
   "metadata": {
    "collapsed": false,
    "pycharm": {
     "name": "#%%\n"
    }
   },
   "outputs": [],
   "source": [
    "\n",
    "N = 5\n",
    "menMeans = (20, 35, 30, 35, -27)\n",
    "womenMeans = (25, 32, 34, 20, -25)\n",
    "menStd = (2, 3, 4, 1, 2)\n",
    "womenStd = (3, 5, 2, 3, 3)\n",
    "ind = np.arange(N)    # the x locations for the groups\n",
    "width = 0.35       # the width of the bars: can also be len(x) sequence"
   ]
  },
  {
   "cell_type": "code",
   "execution_count": null,
   "metadata": {
    "collapsed": false,
    "pycharm": {
     "name": "#%%\n"
    }
   },
   "outputs": [
    {
     "data": {
      "image/png": "[encoded data removed]",
      "text/plain": [
       "<Figure size 432x288 with 1 Axes>"
      ]
     },
     "metadata": {
      "needs_background": "light"
     },
     "output_type": "display_data"
    }
   ],
   "source": [
    "fig, ax = plt.subplots()\n",
    "\n",
    "p1 = ax.bar(ind, menMeans, width, yerr=menStd, label='Men')\n",
    "p2 = ax.bar(ind, womenMeans, width,\n",
    "            bottom=menMeans, yerr=womenStd, label='Women')\n",
    "\n",
    "ax.axhline(0, color='grey', linewidth=0.8)\n",
    "ax.set_ylabel('Scores')\n",
    "ax.set_title('Scores by group and gender')\n",
    "ax.set_xticks(ind)\n",
    "ax.set_xticklabels(('G1', 'G2', 'G3', 'G4', 'G5'))\n",
    "ax.legend()\n",
    "\n",
    "# Label with label_type 'center' instead of the default 'edge'\n",
    "ax.bar_label(p1, label_type='center')\n",
    "ax.bar_label(p2, label_type='center')\n",
    "ax.bar_label(p2)\n",
    "\n",
    "plt.show()"
   ]
  },
  {
   "cell_type": "code",
   "execution_count": null,
   "metadata": {
    "collapsed": false,
    "pycharm": {
     "name": "#%%\n"
    }
   },
   "outputs": [
    {
     "data": {
      "application/vnd.plotly.v1+json": {
       "config": {
        "plotlyServerURL": "https://plot.ly"
       },
       "data": [
        {
         "text": [
          "80.9",
          "87.4",
          "88.3"
         ],
         "textposition": "auto",
         "type": "bar",
         "x": [
          "LCN",
          "NCN",
          "CNN"
         ],
         "y": [
          80.9,
          87.4,
          88.3
         ]
        }
       ],
       "layout": {
        "template": {
         "data": {
          "bar": [
           {
            "error_x": {
             "color": "#2a3f5f"
            },
            "error_y": {
             "color": "#2a3f5f"
            },
            "marker": {
             "line": {
              "color": "#E5ECF6",
              "width": 0.5
             },
             "pattern": {
              "fillmode": "overlay",
              "size": 10,
              "solidity": 0.2
             }
            },
            "type": "bar"
           }
          ],
          "barpolar": [
           {
            "marker": {
             "line": {
              "color": "#E5ECF6",
              "width": 0.5
             },
             "pattern": {
              "fillmode": "overlay",
              "size": 10,
              "solidity": 0.2
             }
            },
            "type": "barpolar"
           }
          ],
          "carpet": [
           {
            "aaxis": {
             "endlinecolor": "#2a3f5f",
             "gridcolor": "white",
             "linecolor": "white",
             "minorgridcolor": "white",
             "startlinecolor": "#2a3f5f"
            },
            "baxis": {
             "endlinecolor": "#2a3f5f",
             "gridcolor": "white",
             "linecolor": "white",
             "minorgridcolor": "white",
             "startlinecolor": "#2a3f5f"
            },
            "type": "carpet"
           }
          ],
          "choropleth": [
           {
            "colorbar": {
             "outlinewidth": 0,
             "ticks": ""
            },
            "type": "choropleth"
           }
          ],
          "contour": [
           {
            "colorbar": {
             "outlinewidth": 0,
             "ticks": ""
            },
            "colorscale": [
             [
              0,
              "#0d0887"
             ],
             [
              0.1111111111111111,
              "#46039f"
             ],
             [
              0.2222222222222222,
              "#7201a8"
             ],
             [
              0.3333333333333333,
              "#9c179e"
             ],
             [
              0.4444444444444444,
              "#bd3786"
             ],
             [
              0.5555555555555556,
              "#d8576b"
             ],
             [
              0.6666666666666666,
              "#ed7953"
             ],
             [
              0.7777777777777778,
              "#fb9f3a"
             ],
             [
              0.8888888888888888,
              "#fdca26"
             ],
             [
              1,
              "#f0f921"
             ]
            ],
            "type": "contour"
           }
          ],
          "contourcarpet": [
           {
            "colorbar": {
             "outlinewidth": 0,
             "ticks": ""
            },
            "type": "contourcarpet"
           }
          ],
          "heatmap": [
           {
            "colorbar": {
             "outlinewidth": 0,
             "ticks": ""
            },
            "colorscale": [
             [
              0,
              "#0d0887"
             ],
             [
              0.1111111111111111,
              "#46039f"
             ],
             [
              0.2222222222222222,
              "#7201a8"
             ],
             [
              0.3333333333333333,
              "#9c179e"
             ],
             [
              0.4444444444444444,
              "#bd3786"
             ],
             [
              0.5555555555555556,
              "#d8576b"
             ],
             [
              0.6666666666666666,
              "#ed7953"
             ],
             [
              0.7777777777777778,
              "#fb9f3a"
             ],
             [
              0.8888888888888888,
              "#fdca26"
             ],
             [
              1,
              "#f0f921"
             ]
            ],
            "type": "heatmap"
           }
          ],
          "heatmapgl": [
           {
            "colorbar": {
             "outlinewidth": 0,
             "ticks": ""
            },
            "colorscale": [
             [
              0,
              "#0d0887"
             ],
             [
              0.1111111111111111,
              "#46039f"
             ],
             [
              0.2222222222222222,
              "#7201a8"
             ],
             [
              0.3333333333333333,
              "#9c179e"
             ],
             [
              0.4444444444444444,
              "#bd3786"
             ],
             [
              0.5555555555555556,
              "#d8576b"
             ],
             [
              0.6666666666666666,
              "#ed7953"
             ],
             [
              0.7777777777777778,
              "#fb9f3a"
             ],
             [
              0.8888888888888888,
              "#fdca26"
             ],
             [
              1,
              "#f0f921"
             ]
            ],
            "type": "heatmapgl"
           }
          ],
          "histogram": [
           {
            "marker": {
             "pattern": {
              "fillmode": "overlay",
              "size": 10,
              "solidity": 0.2
             }
            },
            "type": "histogram"
           }
          ],
          "histogram2d": [
           {
            "colorbar": {
             "outlinewidth": 0,
             "ticks": ""
            },
            "colorscale": [
             [
              0,
              "#0d0887"
             ],
             [
              0.1111111111111111,
              "#46039f"
             ],
             [
              0.2222222222222222,
              "#7201a8"
             ],
             [
              0.3333333333333333,
              "#9c179e"
             ],
             [
              0.4444444444444444,
              "#bd3786"
             ],
             [
              0.5555555555555556,
              "#d8576b"
             ],
             [
              0.6666666666666666,
              "#ed7953"
             ],
             [
              0.7777777777777778,
              "#fb9f3a"
             ],
             [
              0.8888888888888888,
              "#fdca26"
             ],
             [
              1,
              "#f0f921"
             ]
            ],
            "type": "histogram2d"
           }
          ],
          "histogram2dcontour": [
           {
            "colorbar": {
             "outlinewidth": 0,
             "ticks": ""
            },
            "colorscale": [
             [
              0,
              "#0d0887"
             ],
             [
              0.1111111111111111,
              "#46039f"
             ],
             [
              0.2222222222222222,
              "#7201a8"
             ],
             [
              0.3333333333333333,
              "#9c179e"
             ],
             [
              0.4444444444444444,
              "#bd3786"
             ],
             [
              0.5555555555555556,
              "#d8576b"
             ],
             [
              0.6666666666666666,
              "#ed7953"
             ],
             [
              0.7777777777777778,
              "#fb9f3a"
             ],
             [
              0.8888888888888888,
              "#fdca26"
             ],
             [
              1,
              "#f0f921"
             ]
            ],
            "type": "histogram2dcontour"
           }
          ],
          "mesh3d": [
           {
            "colorbar": {
             "outlinewidth": 0,
             "ticks": ""
            },
            "type": "mesh3d"
           }
          ],
          "parcoords": [
           {
            "line": {
             "colorbar": {
              "outlinewidth": 0,
              "ticks": ""
             }
            },
            "type": "parcoords"
           }
          ],
          "pie": [
           {
            "automargin": true,
            "type": "pie"
           }
          ],
          "scatter": [
           {
            "marker": {
             "colorbar": {
              "outlinewidth": 0,
              "ticks": ""
             }
            },
            "type": "scatter"
           }
          ],
          "scatter3d": [
           {
            "line": {
             "colorbar": {
              "outlinewidth": 0,
              "ticks": ""
             }
            },
            "marker": {
             "colorbar": {
              "outlinewidth": 0,
              "ticks": ""
             }
            },
            "type": "scatter3d"
           }
          ],
          "scattercarpet": [
           {
            "marker": {
             "colorbar": {
              "outlinewidth": 0,
              "ticks": ""
             }
            },
            "type": "scattercarpet"
           }
          ],
          "scattergeo": [
           {
            "marker": {
             "colorbar": {
              "outlinewidth": 0,
              "ticks": ""
             }
            },
            "type": "scattergeo"
           }
          ],
          "scattergl": [
           {
            "marker": {
             "colorbar": {
              "outlinewidth": 0,
              "ticks": ""
             }
            },
            "type": "scattergl"
           }
          ],
          "scattermapbox": [
           {
            "marker": {
             "colorbar": {
              "outlinewidth": 0,
              "ticks": ""
             }
            },
            "type": "scattermapbox"
           }
          ],
          "scatterpolar": [
           {
            "marker": {
             "colorbar": {
              "outlinewidth": 0,
              "ticks": ""
             }
            },
            "type": "scatterpolar"
           }
          ],
          "scatterpolargl": [
           {
            "marker": {
             "colorbar": {
              "outlinewidth": 0,
              "ticks": ""
             }
            },
            "type": "scatterpolargl"
           }
          ],
          "scatterternary": [
           {
            "marker": {
             "colorbar": {
              "outlinewidth": 0,
              "ticks": ""
             }
            },
            "type": "scatterternary"
           }
          ],
          "surface": [
           {
            "colorbar": {
             "outlinewidth": 0,
             "ticks": ""
            },
            "colorscale": [
             [
              0,
              "#0d0887"
             ],
             [
              0.1111111111111111,
              "#46039f"
             ],
             [
              0.2222222222222222,
              "#7201a8"
             ],
             [
              0.3333333333333333,
              "#9c179e"
             ],
             [
              0.4444444444444444,
              "#bd3786"
             ],
             [
              0.5555555555555556,
              "#d8576b"
             ],
             [
              0.6666666666666666,
              "#ed7953"
             ],
             [
              0.7777777777777778,
              "#fb9f3a"
             ],
             [
              0.8888888888888888,
              "#fdca26"
             ],
             [
              1,
              "#f0f921"
             ]
            ],
            "type": "surface"
           }
          ],
          "table": [
           {
            "cells": {
             "fill": {
              "color": "#EBF0F8"
             },
             "line": {
              "color": "white"
             }
            },
            "header": {
             "fill": {
              "color": "#C8D4E3"
             },
             "line": {
              "color": "white"
             }
            },
            "type": "table"
           }
          ]
         },
         "layout": {
          "annotationdefaults": {
           "arrowcolor": "#2a3f5f",
           "arrowhead": 0,
           "arrowwidth": 1
          },
          "autotypenumbers": "strict",
          "coloraxis": {
           "colorbar": {
            "outlinewidth": 0,
            "ticks": ""
           }
          },
          "colorscale": {
           "diverging": [
            [
             0,
             "#8e0152"
            ],
            [
             0.1,
             "#c51b7d"
            ],
            [
             0.2,
             "#de77ae"
            ],
            [
             0.3,
             "#f1b6da"
            ],
            [
             0.4,
             "#fde0ef"
            ],
            [
             0.5,
             "#f7f7f7"
            ],
            [
             0.6,
             "#e6f5d0"
            ],
            [
             0.7,
             "#b8e186"
            ],
            [
             0.8,
             "#7fbc41"
            ],
            [
             0.9,
             "#4d9221"
            ],
            [
             1,
             "#276419"
            ]
           ],
           "sequential": [
            [
             0,
             "#0d0887"
            ],
            [
             0.1111111111111111,
             "#46039f"
            ],
            [
             0.2222222222222222,
             "#7201a8"
            ],
            [
             0.3333333333333333,
             "#9c179e"
            ],
            [
             0.4444444444444444,
             "#bd3786"
            ],
            [
             0.5555555555555556,
             "#d8576b"
            ],
            [
             0.6666666666666666,
             "#ed7953"
            ],
            [
             0.7777777777777778,
             "#fb9f3a"
            ],
            [
             0.8888888888888888,
             "#fdca26"
            ],
            [
             1,
             "#f0f921"
            ]
           ],
           "sequentialminus": [
            [
             0,
             "#0d0887"
            ],
            [
             0.1111111111111111,
             "#46039f"
            ],
            [
             0.2222222222222222,
             "#7201a8"
            ],
            [
             0.3333333333333333,
             "#9c179e"
            ],
            [
             0.4444444444444444,
             "#bd3786"
            ],
            [
             0.5555555555555556,
             "#d8576b"
            ],
            [
             0.6666666666666666,
             "#ed7953"
            ],
            [
             0.7777777777777778,
             "#fb9f3a"
            ],
            [
             0.8888888888888888,
             "#fdca26"
            ],
            [
             1,
             "#f0f921"
            ]
           ]
          },
          "colorway": [
           "#636efa",
           "#EF553B",
           "#00cc96",
           "#ab63fa",
           "#FFA15A",
           "#19d3f3",
           "#FF6692",
           "#B6E880",
           "#FF97FF",
           "#FECB52"
          ],
          "font": {
           "color": "#2a3f5f"
          },
          "geo": {
           "bgcolor": "white",
           "lakecolor": "white",
           "landcolor": "#E5ECF6",
           "showlakes": true,
           "showland": true,
           "subunitcolor": "white"
          },
          "hoverlabel": {
           "align": "left"
          },
          "hovermode": "closest",
          "mapbox": {
           "style": "light"
          },
          "paper_bgcolor": "white",
          "plot_bgcolor": "#E5ECF6",
          "polar": {
           "angularaxis": {
            "gridcolor": "white",
            "linecolor": "white",
            "ticks": ""
           },
           "bgcolor": "#E5ECF6",
           "radialaxis": {
            "gridcolor": "white",
            "linecolor": "white",
            "ticks": ""
           }
          },
          "scene": {
           "xaxis": {
            "backgroundcolor": "#E5ECF6",
            "gridcolor": "white",
            "gridwidth": 2,
            "linecolor": "white",
            "showbackground": true,
            "ticks": "",
            "zerolinecolor": "white"
           },
           "yaxis": {
            "backgroundcolor": "#E5ECF6",
            "gridcolor": "white",
            "gridwidth": 2,
            "linecolor": "white",
            "showbackground": true,
            "ticks": "",
            "zerolinecolor": "white"
           },
           "zaxis": {
            "backgroundcolor": "#E5ECF6",
            "gridcolor": "white",
            "gridwidth": 2,
            "linecolor": "white",
            "showbackground": true,
            "ticks": "",
            "zerolinecolor": "white"
           }
          },
          "shapedefaults": {
           "line": {
            "color": "#2a3f5f"
           }
          },
          "ternary": {
           "aaxis": {
            "gridcolor": "white",
            "linecolor": "white",
            "ticks": ""
           },
           "baxis": {
            "gridcolor": "white",
            "linecolor": "white",
            "ticks": ""
           },
           "bgcolor": "#E5ECF6",
           "caxis": {
            "gridcolor": "white",
            "linecolor": "white",
            "ticks": ""
           }
          },
          "title": {
           "x": 0.05
          },
          "xaxis": {
           "automargin": true,
           "gridcolor": "white",
           "linecolor": "white",
           "ticks": "",
           "title": {
            "standoff": 15
           },
           "zerolinecolor": "white",
           "zerolinewidth": 2
          },
          "yaxis": {
           "automargin": true,
           "gridcolor": "white",
           "linecolor": "white",
           "ticks": "",
           "title": {
            "standoff": 15
           },
           "zerolinecolor": "white",
           "zerolinewidth": 2
          }
         }
        }
       }
      }
     },
     "metadata": {},
     "output_type": "display_data"
    }
   ],
   "source": [
    "import plotly.graph_objects as go\n",
    "\n",
    "x =  ['LCN', 'NCN', 'CNN']\n",
    "\n",
    "\n",
    "y = [80.9, 87.4, 88.3]\n",
    "\n",
    "\n",
    "# Use textposition='auto' for direct text\n",
    "fig = go.Figure(data=[go.Bar(\n",
    "            x=x, y=y,\n",
    "            text=y,\n",
    "            textposition='auto',\n",
    "        )])\n",
    "\n",
    "fig.show()"
   ]
  },
  {
   "cell_type": "code",
   "execution_count": null,
   "metadata": {
    "collapsed": false,
    "pycharm": {
     "name": "#%%\n"
    }
   },
   "outputs": [],
   "source": []
  }
 ],
 "metadata": {
  "interpreter": {
   "hash": "16c11565bb4e67660010f3b8ac54bb06ff920d6e5d1ce8d761516dd991d6b185"
  },
  "kernelspec": {
   "display_name": "Python 3.6.13 ('py36')",
   "language": "python",
   "name": "python3"
  },
  "language_info": {
   "codemirror_mode": {
    "name": "ipython",
    "version": 3
   },
   "file_extension": ".py",
   "mimetype": "text/x-python",
   "name": "python",
   "nbconvert_exporter": "python",
   "pygments_lexer": "ipython3",
   "version": "3.6.13"
  }
 },
 "nbformat": 4,
 "nbformat_minor": 0
}
